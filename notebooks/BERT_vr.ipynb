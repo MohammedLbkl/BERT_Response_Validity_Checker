{
 "cells": [
  {
   "cell_type": "code",
   "execution_count": 1,
   "id": "e1d4c36a",
   "metadata": {},
   "outputs": [
    {
     "name": "stderr",
     "output_type": "stream",
     "text": [
      "c:\\Simoh\\Github\\BERT_Response_Validity_Checker\\.venv\\Lib\\site-packages\\tqdm\\auto.py:21: TqdmWarning: IProgress not found. Please update jupyter and ipywidgets. See https://ipywidgets.readthedocs.io/en/stable/user_install.html\n",
      "  from .autonotebook import tqdm as notebook_tqdm\n"
     ]
    }
   ],
   "source": [
    "import pandas as pd\n",
    "import re\n",
    "import torch\n",
    "from torch.utils.data import DataLoader, Dataset\n",
    "from transformers import AutoTokenizer, AutoModelForSequenceClassification, get_linear_schedule_with_warmup\n",
    "from torch.optim import AdamW\n",
    "from sklearn.model_selection import train_test_split\n",
    "from sklearn.metrics import precision_score, recall_score, f1_score, confusion_matrix\n",
    "import matplotlib.pyplot as plt\n",
    "import spacy\n",
    "import seaborn as sns\n",
    "from torch.utils.data import WeightedRandomSampler\n",
    "import numpy as np\n",
    "\n"
   ]
  },
  {
   "cell_type": "markdown",
   "id": "a641875e",
   "metadata": {},
   "source": [
    "# PRE-Traitement"
   ]
  },
  {
   "cell_type": "code",
   "execution_count": 2,
   "id": "8b92bdf6",
   "metadata": {},
   "outputs": [
    {
     "name": "stdout",
     "output_type": "stream",
     "text": [
      "Dimensions du DataFrame: (501, 3)\n"
     ]
    },
    {
     "data": {
      "text/html": [
       "<div>\n",
       "<style scoped>\n",
       "    .dataframe tbody tr th:only-of-type {\n",
       "        vertical-align: middle;\n",
       "    }\n",
       "\n",
       "    .dataframe tbody tr th {\n",
       "        vertical-align: top;\n",
       "    }\n",
       "\n",
       "    .dataframe thead th {\n",
       "        text-align: right;\n",
       "    }\n",
       "</style>\n",
       "<table border=\"1\" class=\"dataframe\">\n",
       "  <thead>\n",
       "    <tr style=\"text-align: right;\">\n",
       "      <th></th>\n",
       "      <th>question</th>\n",
       "      <th>answer</th>\n",
       "      <th>label</th>\n",
       "    </tr>\n",
       "  </thead>\n",
       "  <tbody>\n",
       "    <tr>\n",
       "      <th>0</th>\n",
       "      <td>Do you have a color or style in mind?</td>\n",
       "      <td>I’m looking for a blueprint for a birdhouse.</td>\n",
       "      <td>0</td>\n",
       "    </tr>\n",
       "    <tr>\n",
       "      <th>1</th>\n",
       "      <td>What's your usual size?</td>\n",
       "      <td>I'm not sure, what size is the mannequin wearing?</td>\n",
       "      <td>1</td>\n",
       "    </tr>\n",
       "    <tr>\n",
       "      <th>2</th>\n",
       "      <td>Do you have a color or style in mind?</td>\n",
       "      <td>I saw a blue heron at the lake last week.</td>\n",
       "      <td>0</td>\n",
       "    </tr>\n",
       "    <tr>\n",
       "      <th>3</th>\n",
       "      <td>Do you like this model?</td>\n",
       "      <td>To be honest, I don't like the style.</td>\n",
       "      <td>1</td>\n",
       "    </tr>\n",
       "    <tr>\n",
       "      <th>4</th>\n",
       "      <td>Do you have a color or style in mind?</td>\n",
       "      <td>For the color, I'd prefer blue. The style is f...</td>\n",
       "      <td>1</td>\n",
       "    </tr>\n",
       "  </tbody>\n",
       "</table>\n",
       "</div>"
      ],
      "text/plain": [
       "                                question  \\\n",
       "0  Do you have a color or style in mind?   \n",
       "1                What's your usual size?   \n",
       "2  Do you have a color or style in mind?   \n",
       "3                Do you like this model?   \n",
       "4  Do you have a color or style in mind?   \n",
       "\n",
       "                                              answer  label  \n",
       "0       I’m looking for a blueprint for a birdhouse.      0  \n",
       "1  I'm not sure, what size is the mannequin wearing?      1  \n",
       "2          I saw a blue heron at the lake last week.      0  \n",
       "3              To be honest, I don't like the style.      1  \n",
       "4  For the color, I'd prefer blue. The style is f...      1  "
      ]
     },
     "execution_count": 2,
     "metadata": {},
     "output_type": "execute_result"
    }
   ],
   "source": [
    "df = pd.read_csv('../../data/data_en_motsclé.csv')\n",
    "print(f\"Dimensions du DataFrame: {df.shape}\")\n",
    "df.head()\n"
   ]
  },
  {
   "cell_type": "code",
   "execution_count": 3,
   "id": "b5658867",
   "metadata": {},
   "outputs": [
    {
     "data": {
      "text/html": [
       "<div>\n",
       "<style scoped>\n",
       "    .dataframe tbody tr th:only-of-type {\n",
       "        vertical-align: middle;\n",
       "    }\n",
       "\n",
       "    .dataframe tbody tr th {\n",
       "        vertical-align: top;\n",
       "    }\n",
       "\n",
       "    .dataframe thead th {\n",
       "        text-align: right;\n",
       "    }\n",
       "</style>\n",
       "<table border=\"1\" class=\"dataframe\">\n",
       "  <thead>\n",
       "    <tr style=\"text-align: right;\">\n",
       "      <th></th>\n",
       "      <th>cleaned_question</th>\n",
       "      <th>cleaned_answer</th>\n",
       "      <th>label</th>\n",
       "    </tr>\n",
       "  </thead>\n",
       "  <tbody>\n",
       "    <tr>\n",
       "      <th>0</th>\n",
       "      <td>do you have a color or style in mind?</td>\n",
       "      <td>im looking for a blueprint for a birdhouse.</td>\n",
       "      <td>0</td>\n",
       "    </tr>\n",
       "    <tr>\n",
       "      <th>1</th>\n",
       "      <td>what's your usual size?</td>\n",
       "      <td>i'm not sure, what size is the mannequin wearing?</td>\n",
       "      <td>1</td>\n",
       "    </tr>\n",
       "    <tr>\n",
       "      <th>2</th>\n",
       "      <td>do you have a color or style in mind?</td>\n",
       "      <td>i saw a blue heron at the lake last week.</td>\n",
       "      <td>0</td>\n",
       "    </tr>\n",
       "    <tr>\n",
       "      <th>3</th>\n",
       "      <td>do you like this model?</td>\n",
       "      <td>to be honest, i don't like the style.</td>\n",
       "      <td>1</td>\n",
       "    </tr>\n",
       "    <tr>\n",
       "      <th>4</th>\n",
       "      <td>do you have a color or style in mind?</td>\n",
       "      <td>for the color, i'd prefer blue. the style is f...</td>\n",
       "      <td>1</td>\n",
       "    </tr>\n",
       "  </tbody>\n",
       "</table>\n",
       "</div>"
      ],
      "text/plain": [
       "                        cleaned_question  \\\n",
       "0  do you have a color or style in mind?   \n",
       "1                what's your usual size?   \n",
       "2  do you have a color or style in mind?   \n",
       "3                do you like this model?   \n",
       "4  do you have a color or style in mind?   \n",
       "\n",
       "                                      cleaned_answer  label  \n",
       "0        im looking for a blueprint for a birdhouse.      0  \n",
       "1  i'm not sure, what size is the mannequin wearing?      1  \n",
       "2          i saw a blue heron at the lake last week.      0  \n",
       "3              to be honest, i don't like the style.      1  \n",
       "4  for the color, i'd prefer blue. the style is f...      1  "
      ]
     },
     "execution_count": 3,
     "metadata": {},
     "output_type": "execute_result"
    }
   ],
   "source": [
    "def clean_text(text):\n",
    "    text = str(text)\n",
    "    text = re.sub(r'<.*?>', '', text)\n",
    "    text = re.sub(r'[^a-zA-Z0-9\\s\\.\\?,!àâéèêëîïôûùüçÀÂÉÈÊËÎÏÔÛÙÜÇ\\']', '', text)\n",
    "    text = text.lower()\n",
    "    text = re.sub(r'\\s+', ' ', text).strip()\n",
    "    return text\n",
    "\n",
    "df['cleaned_question'] = df['question'].apply(clean_text)\n",
    "df['cleaned_answer'] = df['answer'].apply(clean_text)\n",
    "\n",
    "\n",
    "df[['cleaned_question', 'cleaned_answer', 'label']].head()"
   ]
  },
  {
   "cell_type": "markdown",
   "id": "5843ac08",
   "metadata": {},
   "source": [
    "### Fonction"
   ]
  },
  {
   "cell_type": "code",
   "execution_count": 4,
   "id": "8374cd18",
   "metadata": {},
   "outputs": [],
   "source": [
    "import torch\n",
    "import torch.nn as nn\n",
    "import torch.nn.functional as F\n",
    "\n",
    "class FocalLoss(nn.Module):\n",
    "    \"\"\"\n",
    "    Implémentation de la Focal Loss, une fonction de perte différentiable\n",
    "    pour l'optimisation du F1-score et du recall dans les\n",
    "    problèmes de classification déséquilibrés.\n",
    "    \"\"\"\n",
    "    def __init__(self, alpha=None, gamma=2., reduction='mean'):\n",
    "        super(FocalLoss, self).__init__()\n",
    "        self.alpha = alpha\n",
    "        self.gamma = gamma\n",
    "        self.reduction = reduction\n",
    "\n",
    "    def forward(self, inputs, targets):\n",
    "\n",
    "        ce_loss = F.cross_entropy(inputs, targets, reduction='none')\n",
    "\n",
    "\n",
    "        pt = torch.exp(-ce_loss)\n",
    "\n",
    "\n",
    "        focal_loss = (1 - pt) ** self.gamma * ce_loss\n",
    "\n",
    "\n",
    "        if self.alpha is not None:\n",
    "            if self.alpha.device != focal_loss.device:\n",
    "                self.alpha = self.alpha.to(focal_loss.device)\n",
    "            \n",
    "            alpha_t = self.alpha[targets]\n",
    "            focal_loss = alpha_t * focal_loss\n",
    "\n",
    "        if self.reduction == 'mean':\n",
    "            return focal_loss.mean()\n",
    "        elif self.reduction == 'sum':\n",
    "            return focal_loss.sum()\n",
    "        else:\n",
    "            return focal_loss"
   ]
  },
  {
   "cell_type": "code",
   "execution_count": 5,
   "id": "1edbdb2c",
   "metadata": {},
   "outputs": [
    {
     "name": "stderr",
     "output_type": "stream",
     "text": [
      "c:\\Simoh\\Github\\BERT_Response_Validity_Checker\\.venv\\Lib\\site-packages\\huggingface_hub\\file_download.py:943: FutureWarning: `resume_download` is deprecated and will be removed in version 1.0.0. Downloads always resume when possible. If you want to force a new download, use `force_download=True`.\n",
      "  warnings.warn(\n"
     ]
    }
   ],
   "source": [
    "\n",
    "MODEL_NAME = \"distilbert-base-uncased\" # Or \"roberta-base\", \"bert-base-uncased\", on prend distilbert pour la vitesse\n",
    "\n",
    "tokenizer = AutoTokenizer.from_pretrained(MODEL_NAME)\n",
    "\n",
    "class QACoherenceDataset(Dataset):\n",
    "    def __init__(self, questions, answers, labels, tokenizer, max_len):\n",
    "        self.questions = questions\n",
    "        self.answers = answers\n",
    "        self.labels = labels\n",
    "        self.tokenizer = tokenizer\n",
    "        self.max_len = max_len\n",
    "\n",
    "    def __len__(self):\n",
    "        return len(self.questions)\n",
    "\n",
    "    def __getitem__(self, item):\n",
    "        question = str(self.questions[item])\n",
    "        answer = str(self.answers[item])\n",
    "        label = self.labels[item]\n",
    "        encoding = self.tokenizer.encode_plus(\n",
    "            question,\n",
    "            answer,\n",
    "            add_special_tokens=True,\n",
    "            max_length=self.max_len,\n",
    "            return_token_type_ids=False,\n",
    "            padding='max_length',\n",
    "            truncation=True,\n",
    "            return_attention_mask=True,\n",
    "            return_tensors='pt',\n",
    "        )\n",
    "        return {\n",
    "            'input_ids': encoding['input_ids'].flatten(),\n",
    "            'attention_mask': encoding['attention_mask'].flatten(),\n",
    "            'label': torch.tensor(label, dtype=torch.long)\n",
    "        }\n"
   ]
  },
  {
   "cell_type": "code",
   "execution_count": 6,
   "id": "4b3fd719",
   "metadata": {},
   "outputs": [],
   "source": [
    "# --- 4. Fonctions d'Entraînement et d'Évaluation ---\n",
    "\n",
    "def train_epoch_fn(model, data_loader, criterion, optimizer, scheduler, device, n_examples): # Ajout de criterion\n",
    "    model.train()\n",
    "    total_loss = 0\n",
    "    correct_predictions = 0\n",
    "    for batch_idx, batch in enumerate(data_loader):\n",
    "        input_ids = batch['input_ids'].to(device)\n",
    "        attention_mask = batch['attention_mask'].to(device)\n",
    "        labels = batch['label'].to(device)\n",
    "        \n",
    "        optimizer.zero_grad()\n",
    "        \n",
    "        # Obtenir les logits SANS calculer la perte dans le modèle\n",
    "        outputs = model(\n",
    "            input_ids=input_ids,\n",
    "            attention_mask=attention_mask\n",
    "            # On ne passe plus 'labels' ici\n",
    "        )\n",
    "        logits = outputs.logits\n",
    "        \n",
    "        # Calculer la perte avec notre fonction custom\n",
    "        loss = criterion(logits, labels)\n",
    "        \n",
    "        _, preds = torch.max(logits, dim=1)\n",
    "        correct_predictions += torch.sum(preds == labels)\n",
    "        total_loss += loss.item()\n",
    "        \n",
    "        loss.backward()\n",
    "        torch.nn.utils.clip_grad_norm_(model.parameters(), max_norm=1.0)\n",
    "        optimizer.step()\n",
    "        scheduler.step()\n",
    "        \n",
    "    return correct_predictions.double() / n_examples, total_loss / len(data_loader)\n",
    "\n",
    "def eval_model_fn(model, data_loader, criterion, device, n_examples): # Ajout de criterion\n",
    "    model.eval()\n",
    "    total_eval_loss = 0\n",
    "    correct_predictions = 0\n",
    "    all_true_labels = []\n",
    "    all_pred_labels = []\n",
    "    \n",
    "    with torch.no_grad():\n",
    "        for batch in data_loader:\n",
    "            input_ids = batch['input_ids'].to(device)\n",
    "            attention_mask = batch['attention_mask'].to(device)\n",
    "            labels = batch['label'].to(device)\n",
    "            \n",
    "            # Obtenir les logits\n",
    "            outputs = model(\n",
    "                input_ids=input_ids,\n",
    "                attention_mask=attention_mask\n",
    "            )\n",
    "            logits = outputs.logits\n",
    "            \n",
    "            # Calculer la perte avec la même fonction pour la comparaison\n",
    "            loss = criterion(logits, labels)\n",
    "            \n",
    "            _, preds = torch.max(logits, dim=1)\n",
    "            correct_predictions += torch.sum(preds == labels)\n",
    "            total_eval_loss += loss.item()\n",
    "            \n",
    "            all_true_labels.extend(labels.cpu().numpy())\n",
    "            all_pred_labels.extend(preds.cpu().numpy())\n",
    "            \n",
    "    avg_loss = total_eval_loss / len(data_loader)\n",
    "    accuracy = correct_predictions.double() / n_examples\n",
    "    \n",
    "    return accuracy, avg_loss, all_true_labels, all_pred_labels"
   ]
  },
  {
   "cell_type": "markdown",
   "id": "c591e435",
   "metadata": {},
   "source": [
    "# Entrainement"
   ]
  },
  {
   "cell_type": "code",
   "execution_count": 7,
   "id": "5cc530c7",
   "metadata": {},
   "outputs": [],
   "source": [
    "BATCH_SIZE = 8\n",
    "MAX_LEN = 90\n",
    "\n",
    "class_weights_sample = [1, 1] # ou [1,2] si on veux pondérer\n",
    "\n",
    "LEARNING_RATE = 2e-5\n",
    "ADAM_EPSILON = 1e-8\n",
    "EPOCHS = 5\n",
    "\n"
   ]
  },
  {
   "cell_type": "code",
   "execution_count": 8,
   "id": "99d976d3",
   "metadata": {},
   "outputs": [],
   "source": [
    "from sklearn.model_selection import StratifiedKFold\n",
    "\n",
    "kf = StratifiedKFold(n_splits=5, shuffle=True, random_state=42)\n"
   ]
  },
  {
   "cell_type": "code",
   "execution_count": 9,
   "id": "d0f7d98e",
   "metadata": {},
   "outputs": [
    {
     "name": "stdout",
     "output_type": "stream",
     "text": [
      "Utilisation du device: cpu\n"
     ]
    }
   ],
   "source": [
    "device = torch.device('cuda' if torch.cuda.is_available() else 'cpu')\n",
    "print(f\"Utilisation du device: {device}\")"
   ]
  },
  {
   "cell_type": "code",
   "execution_count": 10,
   "id": "7bc14dbb",
   "metadata": {},
   "outputs": [
    {
     "name": "stdout",
     "output_type": "stream",
     "text": [
      "\n",
      "=== Fold 1 / 5 ===\n"
     ]
    },
    {
     "name": "stderr",
     "output_type": "stream",
     "text": [
      "c:\\Simoh\\Github\\BERT_Response_Validity_Checker\\.venv\\Lib\\site-packages\\huggingface_hub\\file_download.py:943: FutureWarning: `resume_download` is deprecated and will be removed in version 1.0.0. Downloads always resume when possible. If you want to force a new download, use `force_download=True`.\n",
      "  warnings.warn(\n",
      "Some weights of DistilBertForSequenceClassification were not initialized from the model checkpoint at distilbert-base-uncased and are newly initialized: ['classifier.bias', 'classifier.weight', 'pre_classifier.bias', 'pre_classifier.weight']\n",
      "You should probably TRAIN this model on a down-stream task to be able to use it for predictions and inference.\n"
     ]
    },
    {
     "name": "stdout",
     "output_type": "stream",
     "text": [
      "Epoch 1: Train acc 0.685, Val acc 0.802, Val Recall 0.694, Val F1 0.773\n",
      "Epoch 2: Train acc 0.958, Val acc 0.851, Val Recall 0.755, Val F1 0.831\n",
      "Epoch 3: Train acc 0.958, Val acc 0.911, Val Recall 0.878, Val F1 0.905\n",
      "Epoch 4: Train acc 0.995, Val acc 0.911, Val Recall 0.939, Val F1 0.911\n",
      "Epoch 5: Train acc 0.993, Val acc 0.911, Val Recall 0.878, Val F1 0.905\n",
      "\n",
      "=== Fold 2 / 5 ===\n"
     ]
    },
    {
     "name": "stderr",
     "output_type": "stream",
     "text": [
      "c:\\Simoh\\Github\\BERT_Response_Validity_Checker\\.venv\\Lib\\site-packages\\huggingface_hub\\file_download.py:943: FutureWarning: `resume_download` is deprecated and will be removed in version 1.0.0. Downloads always resume when possible. If you want to force a new download, use `force_download=True`.\n",
      "  warnings.warn(\n",
      "Some weights of DistilBertForSequenceClassification were not initialized from the model checkpoint at distilbert-base-uncased and are newly initialized: ['classifier.bias', 'classifier.weight', 'pre_classifier.bias', 'pre_classifier.weight']\n",
      "You should probably TRAIN this model on a down-stream task to be able to use it for predictions and inference.\n"
     ]
    },
    {
     "name": "stdout",
     "output_type": "stream",
     "text": [
      "Epoch 1: Train acc 0.666, Val acc 0.910, Val Recall 0.938, Val F1 0.909\n",
      "Epoch 2: Train acc 0.935, Val acc 0.970, Val Recall 0.979, Val F1 0.969\n",
      "Epoch 3: Train acc 0.985, Val acc 0.940, Val Recall 0.958, Val F1 0.939\n",
      "Epoch 4: Train acc 0.983, Val acc 0.960, Val Recall 1.000, Val F1 0.960\n",
      "Epoch 5: Train acc 0.993, Val acc 0.950, Val Recall 1.000, Val F1 0.950\n",
      "\n",
      "=== Fold 3 / 5 ===\n"
     ]
    },
    {
     "name": "stderr",
     "output_type": "stream",
     "text": [
      "c:\\Simoh\\Github\\BERT_Response_Validity_Checker\\.venv\\Lib\\site-packages\\huggingface_hub\\file_download.py:943: FutureWarning: `resume_download` is deprecated and will be removed in version 1.0.0. Downloads always resume when possible. If you want to force a new download, use `force_download=True`.\n",
      "  warnings.warn(\n",
      "Some weights of DistilBertForSequenceClassification were not initialized from the model checkpoint at distilbert-base-uncased and are newly initialized: ['classifier.bias', 'classifier.weight', 'pre_classifier.bias', 'pre_classifier.weight']\n",
      "You should probably TRAIN this model on a down-stream task to be able to use it for predictions and inference.\n"
     ]
    },
    {
     "name": "stdout",
     "output_type": "stream",
     "text": [
      "Epoch 1: Train acc 0.658, Val acc 0.850, Val Recall 0.875, Val F1 0.848\n",
      "Epoch 2: Train acc 0.905, Val acc 0.950, Val Recall 0.938, Val F1 0.947\n",
      "Epoch 3: Train acc 0.983, Val acc 0.940, Val Recall 0.979, Val F1 0.940\n",
      "Epoch 4: Train acc 0.975, Val acc 0.930, Val Recall 0.979, Val F1 0.931\n"
     ]
    },
    {
     "name": "stderr",
     "output_type": "stream",
     "text": [
      "c:\\Simoh\\Github\\BERT_Response_Validity_Checker\\.venv\\Lib\\site-packages\\huggingface_hub\\file_download.py:943: FutureWarning: `resume_download` is deprecated and will be removed in version 1.0.0. Downloads always resume when possible. If you want to force a new download, use `force_download=True`.\n",
      "  warnings.warn(\n",
      "Some weights of DistilBertForSequenceClassification were not initialized from the model checkpoint at distilbert-base-uncased and are newly initialized: ['classifier.bias', 'classifier.weight', 'pre_classifier.bias', 'pre_classifier.weight']\n",
      "You should probably TRAIN this model on a down-stream task to be able to use it for predictions and inference.\n"
     ]
    },
    {
     "name": "stdout",
     "output_type": "stream",
     "text": [
      "Epoch 5: Train acc 0.988, Val acc 0.940, Val Recall 0.979, Val F1 0.940\n",
      "\n",
      "=== Fold 4 / 5 ===\n",
      "Epoch 1: Train acc 0.676, Val acc 0.910, Val Recall 0.837, Val F1 0.901\n",
      "Epoch 2: Train acc 0.955, Val acc 0.950, Val Recall 1.000, Val F1 0.951\n",
      "Epoch 3: Train acc 0.985, Val acc 0.940, Val Recall 0.980, Val F1 0.941\n",
      "Epoch 4: Train acc 0.990, Val acc 0.950, Val Recall 0.980, Val F1 0.950\n"
     ]
    },
    {
     "name": "stderr",
     "output_type": "stream",
     "text": [
      "c:\\Simoh\\Github\\BERT_Response_Validity_Checker\\.venv\\Lib\\site-packages\\huggingface_hub\\file_download.py:943: FutureWarning: `resume_download` is deprecated and will be removed in version 1.0.0. Downloads always resume when possible. If you want to force a new download, use `force_download=True`.\n",
      "  warnings.warn(\n",
      "Some weights of DistilBertForSequenceClassification were not initialized from the model checkpoint at distilbert-base-uncased and are newly initialized: ['classifier.bias', 'classifier.weight', 'pre_classifier.bias', 'pre_classifier.weight']\n",
      "You should probably TRAIN this model on a down-stream task to be able to use it for predictions and inference.\n"
     ]
    },
    {
     "name": "stdout",
     "output_type": "stream",
     "text": [
      "Epoch 5: Train acc 0.990, Val acc 0.940, Val Recall 0.980, Val F1 0.941\n",
      "\n",
      "=== Fold 5 / 5 ===\n",
      "Epoch 1: Train acc 0.668, Val acc 0.760, Val Recall 1.000, Val F1 0.803\n",
      "Epoch 2: Train acc 0.915, Val acc 0.950, Val Recall 0.980, Val F1 0.950\n",
      "Epoch 3: Train acc 0.970, Val acc 0.950, Val Recall 1.000, Val F1 0.951\n",
      "Epoch 4: Train acc 0.988, Val acc 0.950, Val Recall 0.980, Val F1 0.950\n",
      "Epoch 5: Train acc 0.993, Val acc 0.960, Val Recall 0.980, Val F1 0.960\n"
     ]
    }
   ],
   "source": [
    "from sklearn.metrics import f1_score, recall_score\n",
    "import matplotlib.pyplot as plt\n",
    "\n",
    "cv_history = []   \n",
    "all_fold_f1 = []  \n",
    "all_fold_recall = []  \n",
    "\n",
    "for fold, (train_idx, val_idx) in enumerate(kf.split(df[['cleaned_question', 'cleaned_answer']], df['label'])):\n",
    "    print(f\"\\n=== Fold {fold+1} / {kf.get_n_splits()} ===\")\n",
    "\n",
    "    train_questions = df.iloc[train_idx]['cleaned_question'].values\n",
    "    train_answers   = df.iloc[train_idx]['cleaned_answer'].values\n",
    "    train_labels    = df.iloc[train_idx]['label'].values\n",
    "\n",
    "    val_questions = df.iloc[val_idx]['cleaned_question'].values\n",
    "    val_answers   = df.iloc[val_idx]['cleaned_answer'].values\n",
    "    val_labels    = df.iloc[val_idx]['label'].values\n",
    "\n",
    "    train_dataset = QACoherenceDataset(train_questions, train_answers, train_labels, tokenizer, MAX_LEN)\n",
    "    val_dataset   = QACoherenceDataset(val_questions, val_answers, val_labels, tokenizer, MAX_LEN)\n",
    "\n",
    "\n",
    "    class_counts = np.bincount(train_labels)\n",
    "    sample_weights = np.array([class_weights_sample[label] for label in train_labels])\n",
    "    sampler = WeightedRandomSampler(weights=torch.from_numpy(sample_weights).double(),\n",
    "                                    num_samples=len(sample_weights),\n",
    "                                    replacement=True)\n",
    "    criterion = FocalLoss(alpha=torch.from_numpy(sample_weights).double(), gamma=2)\n",
    "    \n",
    "    train_loader = DataLoader(train_dataset, batch_size=BATCH_SIZE, sampler=sampler)\n",
    "    val_loader   = DataLoader(val_dataset, batch_size=BATCH_SIZE)\n",
    "\n",
    "   \n",
    "    model = AutoModelForSequenceClassification.from_pretrained(MODEL_NAME, num_labels=2).to(device)\n",
    "    optimizer = AdamW(model.parameters(), lr=LEARNING_RATE, eps=ADAM_EPSILON)\n",
    "    total_steps = len(train_loader) * EPOCHS\n",
    "    scheduler = get_linear_schedule_with_warmup(optimizer,\n",
    "                                                num_warmup_steps=int(0.1 * total_steps),\n",
    "                                                num_training_steps=total_steps)\n",
    "\n",
    "\n",
    "    # Entraînement\n",
    "    history = {'train_loss': [], 'val_loss': [], 'train_acc': [],\n",
    "               'val_acc': [], 'val_f1': [], 'val_recall': []}\n",
    "\n",
    "    best_val_f1 = 0\n",
    "    best_val_recall = 0\n",
    "\n",
    "    for epoch in range(EPOCHS):\n",
    "        train_acc, train_loss = train_epoch_fn(model, train_loader, criterion, optimizer, scheduler, device, len(train_dataset))\n",
    "        val_acc, val_loss, val_true, val_pred = eval_model_fn(model, val_loader, criterion, device, len(val_dataset))\n",
    "\n",
    "        val_f1 = f1_score(val_true, val_pred, pos_label=1)\n",
    "        val_recall = recall_score(val_true, val_pred, pos_label=1)\n",
    "\n",
    "        history['train_loss'].append(train_loss)\n",
    "        history['val_loss'].append(val_loss)\n",
    "        history['train_acc'].append(train_acc.item())\n",
    "        history['val_acc'].append(val_acc.item())\n",
    "        history['val_f1'].append(val_f1)\n",
    "        history['val_recall'].append(val_recall)\n",
    "\n",
    "        print(f\"Epoch {epoch+1}: Train acc {train_acc:.3f}, \"\n",
    "              f\"Val acc {val_acc:.3f}, Val Recall {val_recall:.3f}, Val F1 {val_f1:.3f}\")\n",
    "\n",
    "        save_condition = (val_f1 > best_val_f1) or \\\n",
    "                        (val_f1 == best_val_f1 and val_recall > best_val_recall)\n",
    "\n",
    "        if save_condition:\n",
    "            best_val_recall = val_recall\n",
    "            best_val_f1 = val_f1\n",
    "\n",
    "    cv_history.append(history)\n",
    "    all_fold_f1.append(best_val_f1)\n",
    "    all_fold_recall.append(best_val_recall)\n"
   ]
  },
  {
   "cell_type": "code",
   "execution_count": 11,
   "id": "8cf56748",
   "metadata": {},
   "outputs": [
    {
     "name": "stdout",
     "output_type": "stream",
     "text": [
      "F1-score : 0.9477575971579215, Recall : 0.9670068027210885\n"
     ]
    }
   ],
   "source": [
    "print(f'F1-score : {np.mean(all_fold_f1)}, Recall : {np.mean(all_fold_recall)}')"
   ]
  },
  {
   "cell_type": "code",
   "execution_count": 12,
   "id": "1cfb6e72",
   "metadata": {},
   "outputs": [
    {
     "data": {
      "image/png": "[encoded data removed]",
      "text/plain": [
       "<Figure size 1200x400 with 2 Axes>"
      ]
     },
     "metadata": {},
     "output_type": "display_data"
    }
   ],
   "source": [
    "fold0 = cv_history[0]\n",
    "\n",
    "plt.figure(figsize=(12,4))\n",
    "plt.subplot(1,2,1)\n",
    "plt.plot(fold0['train_loss'], 'o-',label=\"Train Loss\")\n",
    "plt.plot(fold0['val_loss'], 'o-',label=\"Val Loss\")\n",
    "plt.xlabel(\"Epoch\")\n",
    "plt.ylabel(\"Loss\")\n",
    "plt.title(\"Loss par epoch (Fold 1)\")\n",
    "plt.legend()\n",
    "\n",
    "plt.subplot(1,2,2)\n",
    "plt.plot(fold0['train_acc'], 'o-',label=\"Train Acc\")\n",
    "plt.plot(fold0['val_acc'], 'o-',label=\"Val Acc\")\n",
    "plt.plot(fold0['val_f1'], 'o-',label=\"Val F1 (minority)\")\n",
    "plt.xlabel(\"Epoch\")\n",
    "plt.ylabel(\"Score\")\n",
    "plt.title(\"Accuracy/F1 par epoch (Fold 1)\")\n",
    "plt.legend()\n",
    "plt.show()"
   ]
  },
  {
   "cell_type": "code",
   "execution_count": 13,
   "id": "81ec4291",
   "metadata": {},
   "outputs": [
    {
     "data": {
      "image/png": "[encoded data removed]",
      "text/plain": [
       "<Figure size 800x600 with 2 Axes>"
      ]
     },
     "metadata": {},
     "output_type": "display_data"
    }
   ],
   "source": [
    "\n",
    "final_test_acc, final_test_loss, true_labels, pred_labels = eval_model_fn(model, val_loader, criterion, device, len(val_dataset))\n",
    "\n",
    "\n",
    "cm = confusion_matrix(true_labels, pred_labels)\n",
    "plt.figure(figsize=(8, 6))\n",
    "sns.heatmap(cm, annot=True, fmt='d', cmap='Blues', xticklabels=['Non Cohérent (0)', 'Cohérent (1)'], yticklabels=['Non Cohérent (0)', 'Cohérent (1)'])\n",
    "plt.xlabel('Prédictions')\n",
    "plt.ylabel('Vraies Étiquettes')\n",
    "plt.title('Matrice de Confusion')\n",
    "plt.show()\n",
    "\n"
   ]
  },
  {
   "cell_type": "code",
   "execution_count": 14,
   "id": "6c41442c",
   "metadata": {},
   "outputs": [
    {
     "name": "stdout",
     "output_type": "stream",
     "text": [
      "FAUX POSITIFS :\n",
      "                                                                                                     decoded_input\n",
      "2                                           what's your usual size? i'm looking for a size that doesn't exist yet.\n",
      "14  would you like to try something else or go to checkout? what time is the hotel checkout? i'm not staying here.\n",
      "59                                               what's a your usual size? i don't believe in the concept of size.\n",
      "\n",
      "FAUX NÉGATIFS :\n",
      "                                   decoded_input\n",
      "79  what's your usual size? my shoe size is a 9.\n"
     ]
    }
   ],
   "source": [
    "decoded_texts = [tokenizer.decode(item['input_ids'], skip_special_tokens=True) for item in val_dataset]\n",
    "\n",
    "df_results = pd.DataFrame({\n",
    "    'decoded_input': decoded_texts,\n",
    "    'true_label': true_labels,\n",
    "    'pred_label': pred_labels\n",
    "})\n",
    "\n",
    "##########\"\" Afficher toutes les lignes \n",
    "pd.set_option('display.max_rows', None)\n",
    "pd.set_option('display.max_columns', None)\n",
    "pd.set_option('display.max_colwidth', None)\n",
    "##########################\n",
    "\n",
    "false_positives = df_results[(df_results['true_label'] == 0) & (df_results['pred_label'] == 1)]\n",
    "false_negatives = df_results[(df_results['true_label'] == 1) & (df_results['pred_label'] == 0)]\n",
    "\n",
    "print(\"FAUX POSITIFS :\") \n",
    "print(false_positives[['decoded_input']])\n",
    "\n",
    "print(\"\\nFAUX NÉGATIFS :\")\n",
    "print(false_negatives[['decoded_input']].head())\n"
   ]
  },
  {
   "cell_type": "markdown",
   "id": "a771f050",
   "metadata": {},
   "source": [
    "# Sauvegarde et Réutilisation"
   ]
  },
  {
   "cell_type": "code",
   "execution_count": 15,
   "id": "2f5454aa",
   "metadata": {},
   "outputs": [
    {
     "data": {
      "text/plain": [
       "('save_model/distilbert_coherence_tokenizer/tokenizer_config.json',\n",
       " 'save_model/distilbert_coherence_tokenizer/special_tokens_map.json',\n",
       " 'save_model/distilbert_coherence_tokenizer/vocab.txt',\n",
       " 'save_model/distilbert_coherence_tokenizer/added_tokens.json',\n",
       " 'save_model/distilbert_coherence_tokenizer/tokenizer.json')"
      ]
     },
     "execution_count": 15,
     "metadata": {},
     "output_type": "execute_result"
    }
   ],
   "source": [
    "MODEL_SAVE_PATH = \"save_model/distilbert_coherence_final_model.bin\"\n",
    "TOKENIZER_SAVE_PATH = \"save_model/distilbert_coherence_tokenizer/\"\n",
    "\n",
    "\n",
    "model.to(device)\n",
    "torch.save(model.state_dict(), MODEL_SAVE_PATH)\n",
    "tokenizer.save_pretrained(TOKENIZER_SAVE_PATH)"
   ]
  },
  {
   "cell_type": "code",
   "execution_count": null,
   "id": "f87121e7",
   "metadata": {},
   "outputs": [
    {
     "name": "stderr",
     "output_type": "stream",
     "text": [
      "c:\\Simoh\\Github\\BERT_Response_Validity_Checker\\.venv\\Lib\\site-packages\\huggingface_hub\\file_download.py:943: FutureWarning: `resume_download` is deprecated and will be removed in version 1.0.0. Downloads always resume when possible. If you want to force a new download, use `force_download=True`.\n",
      "  warnings.warn(\n",
      "Some weights of DistilBertForSequenceClassification were not initialized from the model checkpoint at distilbert-base-uncased and are newly initialized: ['classifier.bias', 'classifier.weight', 'pre_classifier.bias', 'pre_classifier.weight']\n",
      "You should probably TRAIN this model on a down-stream task to be able to use it for predictions and inference.\n"
     ]
    }
   ],
   "source": [
    "MODEL_NAME_FOR_TEST = \"distilbert-base-uncased\" \n",
    "MODEL_SAVE_PATH_FOR_LOAD = \"save_model/distilbert_coherence_final_model.bin\"\n",
    "TOKENIZER_SAVE_PATH_FOR_LOAD = \"save_model/distilbert_coherence_tokenizer/\"\n",
    "\n",
    "\n",
    "MAX_LEN_FOR_TEST = 90\n",
    "DEVICE_FOR_TEST = torch.device('cuda' if torch.cuda.is_available() else 'cpu')\n",
    "\n",
    "\n",
    "def clean_text_for_prediction(text):\n",
    "    text = str(text)\n",
    "    text = re.sub(r'<.*?>', '', text)\n",
    "    text = re.sub(r'[^a-zA-Z0-9\\s\\.\\?,!àâéèêëîïôûùüçÀÂÉÈÊËÎÏÔÛÙÜÇ\\']', '', text)\n",
    "    text = text.lower()\n",
    "    text = re.sub(r'\\s+', ' ', text).strip()\n",
    "    return text\n",
    "\n",
    "\n",
    "model_to_test = None\n",
    "tokenizer_to_test = None\n",
    "device_to_test = None\n",
    "max_len_to_test = None\n",
    "clean_text_func_to_use = None\n",
    "\n",
    "\n",
    "tokenizer_to_test = AutoTokenizer.from_pretrained(TOKENIZER_SAVE_PATH_FOR_LOAD)\n",
    "\n",
    "\n",
    "model_to_test = AutoModelForSequenceClassification.from_pretrained(MODEL_NAME_FOR_TEST, num_labels=2)\n",
    "\n",
    "# Charger les poids sauvegardés\n",
    "model_to_test.load_state_dict(torch.load(MODEL_SAVE_PATH_FOR_LOAD, map_location=DEVICE_FOR_TEST))\n",
    "model_to_test.to(DEVICE_FOR_TEST)\n",
    "model_to_test.eval() \n",
    "\n",
    "max_len_to_test = MAX_LEN_FOR_TEST \n",
    "clean_text_func_to_use = clean_text_for_prediction\n",
    "device_to_test = DEVICE_FOR_TEST "
   ]
  },
  {
   "cell_type": "code",
   "execution_count": null,
   "id": "ee0f1b4c",
   "metadata": {},
   "outputs": [],
   "source": [
    "def predict_coherence(question, answer, model, tokenizer, device, max_len, clean_fn):\n",
    "\n",
    "    cleaned_question = clean_fn(question)\n",
    "    cleaned_answer = clean_fn(answer)\n",
    "\n",
    "    encoding = tokenizer.encode_plus(\n",
    "        cleaned_question,\n",
    "        cleaned_answer,\n",
    "        add_special_tokens=True,\n",
    "        max_length=max_len,\n",
    "        return_token_type_ids=False,\n",
    "        padding='max_length',\n",
    "        truncation=True,\n",
    "        return_attention_mask=True,\n",
    "        return_tensors='pt',\n",
    "    )\n",
    "\n",
    "    input_ids = encoding['input_ids'].to(device)\n",
    "    attention_mask = encoding['attention_mask'].to(device)\n",
    "\n",
    "    with torch.no_grad():\n",
    "        outputs = model(input_ids=input_ids, attention_mask=attention_mask)\n",
    "        logits = outputs.logits\n",
    "        probs = torch.softmax(logits, dim=1)\n",
    "        prediction_idx = torch.argmax(probs, dim=1).cpu().item()\n",
    "        probability_score = probs[0][prediction_idx].cpu().item()\n",
    "\n",
    "    return prediction_idx, probability_score"
   ]
  },
  {
   "cell_type": "code",
   "execution_count": 23,
   "id": "c190074d",
   "metadata": {},
   "outputs": [],
   "source": [
    "\n",
    "test_samples = [\n",
    "{\n",
    "    \"question\": \"Hello, what can I do for you today?\",\n",
    "    \"answer\": \"I am looking for a red T-shirt.\"\n",
    "},  # Coherent\n",
    "{\n",
    "    \"question\": \"Hello, what can I do for you today?\",\n",
    "    \"answer\": \"I am looking at the sky for a spaceship.\" \n",
    "},  # Incoherent\n",
    "{\n",
    "    \"question\": \"What is your usual size?\",\n",
    "    \"answer\": \"My usual size is medium.\"\n",
    "},  # Coherent\n",
    "{\n",
    "    \"question\": \"What is your usual size?\",\n",
    "    \"answer\": \"My usual size is a big elephant.\"\n",
    "},  # Incoherent\n",
    "{\n",
    "    \"question\": \"Do you have a color or style in mind?\",\n",
    "    \"answer\": \"Yes, I am looking for a blue jacket.\"\n",
    "},  # Coherent\n",
    "{\n",
    "    \"question\": \"Do you have a color or style in mind?\",\n",
    "    \"answer\": \"blue\"\n",
    "},  # Incoherent\n",
    "{\n",
    "    \"question\": \"Do you like this model?\",\n",
    "    \"answer\": \"Yes, I like this model. It looks nice.\"\n",
    "},  # Coherent\n",
    "{\n",
    "    \"question\": \"Do you like this model?\",\n",
    "    \"answer\": \"Yes, I like eating pizza at night.\"\n",
    "},  # Incoherent\n",
    "{\n",
    "    \"question\": \"Would you like to try something else or go to checkout?\",\n",
    "    \"answer\": \"I want to go to checkout now.\"\n",
    "},  # Coherent\n",
    "{\n",
    "    \"question\": \"Would you like to try something else or go to checkout?\",\n",
    "    \"answer\": \"I want to checkout the moon tonight.\"\n",
    "},  # Incoherent\n",
    "]"
   ]
  },
  {
   "cell_type": "code",
   "execution_count": 24,
   "id": "8487e4b0",
   "metadata": {},
   "outputs": [
    {
     "name": "stdout",
     "output_type": "stream",
     "text": [
      "\n",
      "Exemple 1:\n",
      "  Question: \"Hello, what can I do for you today?\"\n",
      "  Réponse:  \"I am looking for a red T-shirt.\"\n",
      "  Prédiction: Cohérent (Label: 1, Confiance: 0.9343)\n",
      "\n",
      "Exemple 2:\n",
      "  Question: \"Hello, what can I do for you today?\"\n",
      "  Réponse:  \"I am looking at the sky for a spaceship.\"\n",
      "  Prédiction: Non Cohérent (Label: 0, Confiance: 0.8763)\n",
      "\n",
      "Exemple 3:\n",
      "  Question: \"What is your usual size?\"\n",
      "  Réponse:  \"My usual size is medium.\"\n",
      "  Prédiction: Cohérent (Label: 1, Confiance: 0.7805)\n",
      "\n",
      "Exemple 4:\n",
      "  Question: \"What is your usual size?\"\n",
      "  Réponse:  \"My usual size is a big elephant.\"\n",
      "  Prédiction: Non Cohérent (Label: 0, Confiance: 0.9483)\n",
      "\n",
      "Exemple 5:\n",
      "  Question: \"Do you have a color or style in mind?\"\n",
      "  Réponse:  \"Yes, I am looking for a blue jacket.\"\n",
      "  Prédiction: Cohérent (Label: 1, Confiance: 0.9429)\n",
      "\n",
      "Exemple 6:\n",
      "  Question: \"Do you have a color or style in mind?\"\n",
      "  Réponse:  \"blue\"\n",
      "  Prédiction: Non Cohérent (Label: 0, Confiance: 0.9167)\n",
      "\n",
      "Exemple 7:\n",
      "  Question: \"Do you like this model?\"\n",
      "  Réponse:  \"Yes, I like this model. It looks nice.\"\n",
      "  Prédiction: Cohérent (Label: 1, Confiance: 0.9519)\n",
      "\n",
      "Exemple 8:\n",
      "  Question: \"Do you like this model?\"\n",
      "  Réponse:  \"Yes, I like eating pizza at night.\"\n",
      "  Prédiction: Non Cohérent (Label: 0, Confiance: 0.7813)\n",
      "\n",
      "Exemple 9:\n",
      "  Question: \"Would you like to try something else or go to checkout?\"\n",
      "  Réponse:  \"I want to go to checkout now.\"\n",
      "  Prédiction: Non Cohérent (Label: 0, Confiance: 0.8741)\n",
      "\n",
      "Exemple 10:\n",
      "  Question: \"Would you like to try something else or go to checkout?\"\n",
      "  Réponse:  \"I want to checkout the moon tonight.\"\n",
      "  Prédiction: Non Cohérent (Label: 0, Confiance: 0.9506)\n"
     ]
    }
   ],
   "source": [
    "\n",
    "\n",
    "for i, sample in enumerate(test_samples):\n",
    "    q = sample[\"question\"]\n",
    "    a = sample[\"answer\"]\n",
    "\n",
    "    print(f\"\\nExemple {i+1}:\")\n",
    "    print(f\"  Question: \\\"{q}\\\"\")\n",
    "    print(f\"  Réponse:  \\\"{a}\\\"\")\n",
    "\n",
    "    pred_label, pred_prob = predict_coherence(q, a,\n",
    "                                                model_to_test,\n",
    "                                                tokenizer_to_test,\n",
    "                                                device_to_test,\n",
    "                                                max_len_to_test,\n",
    "                                                clean_text_func_to_use)\n",
    "\n",
    "\n",
    "    coherence_status = \"Cohérent\" if pred_label == 1 else \"Non Cohérent\"\n",
    "    print(f\"  Prédiction: {coherence_status} (Label: {pred_label}, Confiance: {pred_prob:.4f})\")\n"
   ]
  }
 ],
 "metadata": {
  "kernelspec": {
   "display_name": ".venv",
   "language": "python",
   "name": "python3"
  },
  "language_info": {
   "codemirror_mode": {
    "name": "ipython",
    "version": 3
   },
   "file_extension": ".py",
   "mimetype": "text/x-python",
   "name": "python",
   "nbconvert_exporter": "python",
   "pygments_lexer": "ipython3",
   "version": "3.11.9"
  }
 },
 "nbformat": 4,
 "nbformat_minor": 5
}
